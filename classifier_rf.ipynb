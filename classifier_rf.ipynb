{
 "cells": [
  {
   "metadata": {},
   "cell_type": "markdown",
   "source": "## Imports",
   "id": "a073fa9b139f437c"
  },
  {
   "cell_type": "code",
   "id": "initial_id",
   "metadata": {
    "collapsed": true,
    "ExecuteTime": {
     "end_time": "2025-03-15T03:25:40.536826Z",
     "start_time": "2025-03-15T03:25:40.395586Z"
    }
   },
   "source": [
    "from sklearn.model_selection import train_test_split\n",
    "from sklearn.ensemble import RandomForestClassifier\n",
    "from sklearn.metrics import accuracy_score, precision_recall_fscore_support\n",
    "from sklearn.feature_extraction.text import TfidfVectorizer\n",
    "from sklearn.preprocessing import LabelEncoder\n",
    "import joblib\n",
    "import utils"
   ],
   "outputs": [],
   "execution_count": 9
  },
  {
   "metadata": {},
   "cell_type": "markdown",
   "source": "## Load data from directories",
   "id": "b4249dd3ec79482e"
  },
  {
   "metadata": {
    "ExecuteTime": {
     "end_time": "2025-03-15T03:25:40.959001Z",
     "start_time": "2025-03-15T03:25:40.540976Z"
    }
   },
   "cell_type": "code",
   "source": [
    "data_df = utils.load_data_from_directories(articles_dir='./data/news', summaries_dir='./data/summaries')\n",
    "\n",
    "label_encoder = LabelEncoder()\n",
    "data_df['category_encoded'] = label_encoder.fit_transform(data_df['category'])\n",
    "\n",
    "data_df.head()"
   ],
   "id": "45be9da5eaf1bb76",
   "outputs": [
    {
     "data": {
      "text/plain": [
       "                                             content     type filename  \\\n",
       "0  Musicians to tackle US red tape\\n\\nMusicians' ...  article  289.txt   \n",
       "1  U2's desire to be number one\\n\\nU2, who have w...  article  262.txt   \n",
       "2  Rocker Doherty in on-stage fight\\n\\nRock singe...  article  276.txt   \n",
       "3  Snicket tops US box office chart\\n\\nThe film a...  article  060.txt   \n",
       "4  Ocean's Twelve raids box office\\n\\nOcean's Twe...  article  074.txt   \n",
       "\n",
       "        category  category_encoded  \n",
       "0  entertainment                 1  \n",
       "1  entertainment                 1  \n",
       "2  entertainment                 1  \n",
       "3  entertainment                 1  \n",
       "4  entertainment                 1  "
      ],
      "text/html": [
       "<div>\n",
       "<style scoped>\n",
       "    .dataframe tbody tr th:only-of-type {\n",
       "        vertical-align: middle;\n",
       "    }\n",
       "\n",
       "    .dataframe tbody tr th {\n",
       "        vertical-align: top;\n",
       "    }\n",
       "\n",
       "    .dataframe thead th {\n",
       "        text-align: right;\n",
       "    }\n",
       "</style>\n",
       "<table border=\"1\" class=\"dataframe\">\n",
       "  <thead>\n",
       "    <tr style=\"text-align: right;\">\n",
       "      <th></th>\n",
       "      <th>content</th>\n",
       "      <th>type</th>\n",
       "      <th>filename</th>\n",
       "      <th>category</th>\n",
       "      <th>category_encoded</th>\n",
       "    </tr>\n",
       "  </thead>\n",
       "  <tbody>\n",
       "    <tr>\n",
       "      <th>0</th>\n",
       "      <td>Musicians to tackle US red tape\\n\\nMusicians' ...</td>\n",
       "      <td>article</td>\n",
       "      <td>289.txt</td>\n",
       "      <td>entertainment</td>\n",
       "      <td>1</td>\n",
       "    </tr>\n",
       "    <tr>\n",
       "      <th>1</th>\n",
       "      <td>U2's desire to be number one\\n\\nU2, who have w...</td>\n",
       "      <td>article</td>\n",
       "      <td>262.txt</td>\n",
       "      <td>entertainment</td>\n",
       "      <td>1</td>\n",
       "    </tr>\n",
       "    <tr>\n",
       "      <th>2</th>\n",
       "      <td>Rocker Doherty in on-stage fight\\n\\nRock singe...</td>\n",
       "      <td>article</td>\n",
       "      <td>276.txt</td>\n",
       "      <td>entertainment</td>\n",
       "      <td>1</td>\n",
       "    </tr>\n",
       "    <tr>\n",
       "      <th>3</th>\n",
       "      <td>Snicket tops US box office chart\\n\\nThe film a...</td>\n",
       "      <td>article</td>\n",
       "      <td>060.txt</td>\n",
       "      <td>entertainment</td>\n",
       "      <td>1</td>\n",
       "    </tr>\n",
       "    <tr>\n",
       "      <th>4</th>\n",
       "      <td>Ocean's Twelve raids box office\\n\\nOcean's Twe...</td>\n",
       "      <td>article</td>\n",
       "      <td>074.txt</td>\n",
       "      <td>entertainment</td>\n",
       "      <td>1</td>\n",
       "    </tr>\n",
       "  </tbody>\n",
       "</table>\n",
       "</div>"
      ]
     },
     "execution_count": 10,
     "metadata": {},
     "output_type": "execute_result"
    }
   ],
   "execution_count": 10
  },
  {
   "metadata": {},
   "cell_type": "markdown",
   "source": "## Processing data",
   "id": "3846c17374a6d20a"
  },
  {
   "metadata": {
    "ExecuteTime": {
     "end_time": "2025-03-15T03:25:41.374557Z",
     "start_time": "2025-03-15T03:25:40.980290Z"
    }
   },
   "cell_type": "code",
   "source": [
    "train_df, test_df = train_test_split(data_df, test_size=0.2, random_state=42)\n",
    "\n",
    "# Vectorize text data using TF-IDF\n",
    "vectorizer = TfidfVectorizer(max_features=1000)\n",
    "train_X = vectorizer.fit_transform(train_df['content']).toarray()\n",
    "test_X = vectorizer.transform(test_df['content']).toarray()\n",
    "\n",
    "train_Y = train_df['category_encoded']\n",
    "test_Y = test_df['category_encoded']"
   ],
   "id": "71fc280b06be008b",
   "outputs": [],
   "execution_count": 11
  },
  {
   "metadata": {},
   "cell_type": "markdown",
   "source": "## Train Random Forest Classifier",
   "id": "a6185b7cc4e8cfac"
  },
  {
   "metadata": {
    "ExecuteTime": {
     "end_time": "2025-03-15T03:25:42.388587Z",
     "start_time": "2025-03-15T03:25:41.391014Z"
    }
   },
   "cell_type": "code",
   "source": [
    "rf_model = RandomForestClassifier(n_estimators=100, random_state=42)\n",
    "rf_model.fit(train_X, train_Y)\n",
    "\n",
    "\n",
    "joblib.dump(rf_model, 'saved_models/random_forest_model.pt')\n",
    "print('Model saved to saved_models/random_forest_model.pt')"
   ],
   "id": "8a399f11b9a958e0",
   "outputs": [
    {
     "name": "stdout",
     "output_type": "stream",
     "text": [
      "Model saved to saved_models/random_forest_model.pt\n"
     ]
    }
   ],
   "execution_count": 12
  },
  {
   "metadata": {},
   "cell_type": "markdown",
   "source": "## Evaluate the model",
   "id": "8b9c660a21c71e17"
  },
  {
   "metadata": {
    "ExecuteTime": {
     "end_time": "2025-03-15T03:25:42.411857Z",
     "start_time": "2025-03-15T03:25:42.399035Z"
    }
   },
   "cell_type": "code",
   "source": [
    "rf_predictions = rf_model.predict(test_X)\n",
    "rf_accuracy = accuracy_score(test_Y, rf_predictions)\n",
    "rf_precision, rf_recall, rf_f1, _ = precision_recall_fscore_support(test_Y, rf_predictions, average='weighted')\n",
    "\n",
    "print(f'Random Forest Accuracy: {rf_accuracy * 100:.2f}%')\n",
    "print(f'Random Forest Precision: {rf_precision:.4f}')\n",
    "print(f'Random Forest Recall: {rf_recall:.4f}')\n",
    "print(f'Random Forest F1 Score: {rf_f1:.4f}')"
   ],
   "id": "1de04e8deeb24c54",
   "outputs": [
    {
     "name": "stdout",
     "output_type": "stream",
     "text": [
      "Random Forest Accuracy: 97.08%\n",
      "Random Forest Precision: 0.9711\n",
      "Random Forest Recall: 0.9708\n",
      "Random Forest F1 Score: 0.9708\n"
     ]
    }
   ],
   "execution_count": 13
  }
 ],
 "metadata": {
  "kernelspec": {
   "display_name": "Python 3",
   "language": "python",
   "name": "python3"
  },
  "language_info": {
   "codemirror_mode": {
    "name": "ipython",
    "version": 2
   },
   "file_extension": ".py",
   "mimetype": "text/x-python",
   "name": "python",
   "nbconvert_exporter": "python",
   "pygments_lexer": "ipython2",
   "version": "2.7.6"
  }
 },
 "nbformat": 4,
 "nbformat_minor": 5
}
