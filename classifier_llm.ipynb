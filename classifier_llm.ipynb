{
 "cells": [
  {
   "cell_type": "markdown",
   "id": "2800c2544414a85a",
   "metadata": {},
   "source": [
    "## Imports"
   ]
  },
  {
   "cell_type": "code",
   "execution_count": 15,
   "id": "7e2eda726a5ae0b2",
   "metadata": {
    "ExecuteTime": {
     "end_time": "2025-03-22T06:10:40.771286Z",
     "start_time": "2025-03-22T06:10:40.766897Z"
    }
   },
   "outputs": [],
   "source": [
    "from langchain_ollama import ChatOllama\n",
    "import utils\n",
    "from sklearn.preprocessing import LabelEncoder\n",
    "from sklearn.model_selection import train_test_split"
   ]
  },
  {
   "cell_type": "markdown",
   "id": "dd52bafde043beae",
   "metadata": {},
   "source": [
    "## Load ata from directories"
   ]
  },
  {
   "cell_type": "code",
   "execution_count": 16,
   "id": "19558308bae60213",
   "metadata": {
    "ExecuteTime": {
     "end_time": "2025-03-22T06:10:54.214873Z",
     "start_time": "2025-03-22T06:10:40.779744Z"
    }
   },
   "outputs": [],
   "source": [
    "data_df = utils.load_data_from_directories(articles_dir='./data/news', summaries_dir='./data/summaries')\n",
    "label_encoder = LabelEncoder()\n",
    "data_df['category_encoded'] = label_encoder.fit_transform(data_df['category'])\n",
    "\n",
    "train_df, test_df = train_test_split(data_df, test_size=0.2, random_state=42)\n",
    "test_texts = test_df['content'].tolist()\n",
    "\n",
    "allowed_categories = ', '.join(data_df['category'].unique())\n"
   ]
  },
  {
   "cell_type": "markdown",
   "id": "e1e5d0462aa2c404",
   "metadata": {},
   "source": [
    "## Classify the news articles"
   ]
  },
  {
   "cell_type": "code",
   "execution_count": null,
   "id": "947632948142a7a4",
   "metadata": {
    "ExecuteTime": {
     "end_time": "2025-03-22T06:21:08.538277Z",
     "start_time": "2025-03-22T06:21:03.504216Z"
    }
   },
   "outputs": [
    {
     "name": "stdout",
     "output_type": "stream",
     "text": [
      "Article: ********\n",
      "  News Corp eyes video games market\n",
      "\n",
      "News Corp, the media company controlled by Australian billionaire Rupert Murdoch, is eyeing a move into the video games market.\n",
      "\n",
      "According to the Financial Times, chief operating officer Peter Chernin said that News Corp is \"kicking the tires of pretty much all video games companies\". Santa Monica-based Activison is said to be one firm on its takeover list. Video games are \"big business\", the paper quoted Mr Chernin as saying. We \"would like to get into it\".\n",
      "\n",
      "The success of products such as Sony's Playstation, Microsoft's X-Box and Nintendo's Game Cube have boosted demand for video games.\n",
      "\n",
      "The days of arcade classics such as Space Invaders, Pac-Man and Donkey Kong are long gone. Today, games often have budgets big enough for feature films and look to give gamers as real an experience as possible. And with their price tags reflecting the heavy investment by development companies, video games are proving almost as profitable as they are fun. Mr Chernin, however, told the FT that News Corp was finding it difficult to identify a suitable target. \"We are struggling with the gap between companies like Electronic Arts, which comes with a high price tag, and the next tier of companies,\" he explained during a conference in Phoenix, Arizona. \"These may be too focused on one or two product lines.\"\n",
      " ******** \n",
      " Category: Business, Expected: business\n",
      "\n",
      "Article: ********\n",
      "  Security, stability and prosperity would be the key themes when the UK took over the chairmanship of the EU in July, said Mr Straw.Shadow foreign secretary Michael Ancram told MPs a new White Paper was part of trying to soften up opinion ahead of the referendum on the EU constitution.He said the UK was trying to ensure future EU budgets were limited to 1% of Europe's economic output and were spent \"where it adds most value\".Mr Straw used Thursday's Commons debate to launch the new White Paper on the prospects for the EU in 2005.The Tory spokesman also criticised the government for claiming the EU constitution would make Europe easier to understand.EU cooperation would help get better UK immigration controls, he argued.The Electoral Commission on Thursday said it was satisfied the question was easy to understand.Mr Straw said no decisions had been taken - Chinese human rights had improved but not by enough.For the Liberal Democrats, Sir Menzies Campbell said the UK should not ignore the need to reform the EU Common Agricultural Policy.Mr Straw promised to continue to ensure the UK's budget rebate, secured in 1984 by Margaret Thatcher, was \"fully justified\".Mr Straw argued cooperation with European partners could bring a \"level playing field\" on immigration and asylum controls.\n",
      " ******** \n",
      " Category: Politics, Expected: politics\n",
      "\n",
      "Article: ********\n",
      "  Notwithstanding, comedian Reeves remains 3/1 favourite to win the show, after Pasquale.Comic Joe Pasquale remains odds on favourite to win the reality show.Bookmakers Ladbrokes says the singer has even odds of being the first contestant to be voted off the show.\"It's going to be close but Sheila is favourite as she has shown herself to be a bit of a troublemaker,\" said Ladbrokes' Warren Lush.On Friday, Ladbrokes suspended betting after singer Brian Harvey quit the show folllowing a blazing row with Janet Street-Porter.\n",
      " ******** \n",
      " Category: Entertainment, Expected: entertainment\n",
      "\n",
      "Article: ********\n",
      "  The report predicts that nearly 70% of all mobile phones sold will have a built-in camera by 2008.Image sensor technology inside cameras phones is improving.By 2008, according to Gartner, 95% of all mobiles sold there will have cameras on them.But in Japan and Asia Pacific, where camera phone technology is much more advanced, mobiles have already been released which can take 3.2 megapixel images.The Gartner report suggests that by mid-2005, it is likely that the image resolution of most camera phones will be more than two megapixels.But camera phone fears have not dampened the manufacturers' profits.In Europe, cameras on mobiles can take 1.3 megapixel images.Four times more mobiles with cameras in them will be sold in Europe by the end of 2004 than last year, says a report from analysts Gartner.Images from camera phones have even made it into the art world.But a lot of work is being done to make camera phones more like digital cameras.Camera phones had some teething problems when they were first launched as people struggled with poor quality images and uses for them, as well as the complexity and expense of sending them via MMS (Multimedia Messaging Services).Consumer digital cameras images range from two to four megapixels in quality, and up to six megapixels on a high-end camera.Realising that people like to use their camera phones in different ways, they have introduced more design features, like rotating screens and viewfinders, removable memory cards and easier controls to send picture messages.\n",
      " ******** \n",
      " Category: tech, Expected: tech\n",
      "\n",
      "Article: ********\n",
      "  Holmes is hit by hamstring injury\n",
      "\n",
      "Kelly Holmes has been forced out of this weekend's European Indoor Athletics Championships after picking up a hamstring injury during training.\n",
      "\n",
      "The double Olympic champion said: \"I am very disappointed that I have been forced to withdraw. \"I can hardly walk at the moment and I won't be able to do any running for two or three weeks although I'll be keeping fit as best I can.\" Holmes will have now have intensive treatment in South Africa.\n",
      "\n",
      "The 34-year-old made a cautious start to the season but looked back to her best when she stormed to the 1,000m title at the Birmingham Grand Prix 10 days ago. After that race and more progress in training, Holmes revealed she had decided to compete at the European Indoors before her plans were wrecked last weekend. \"On Saturday night I pulled my hamstring running the last bend on my final 200m of the night,\" said Holmes. \"I was going really, really well when I felt a massive spasm in my left leg and my hamstring blew. \"I saw the doctor here and he has said it is not serious but it's frustrating missing Madrid when I knew I was in great shape.\" Holmes has now been advised by her coach Margot Jennings not to rush back into training and it is unlikely she will compete again until the summer. Helen Clitheroe now goes to Madrid as the only British competitor in the women's 1500m while there will be no representative in the 800m.\n",
      " ******** \n",
      " Category: Sport, Expected: sport\n",
      "\n"
     ]
    }
   ],
   "source": [
    "llm = ChatOllama(\n",
    "    model=\"llama3\",\n",
    "    temperature=0,\n",
    ")\n",
    "\n",
    "\n",
    "messages = [\n",
    "    (\n",
    "        \"system\",\n",
    "        f\"You are a helpful assistant that classifies news articles into the following categories: \" + \n",
    "        \"{allowed_categories}. Only output the category name.\",\n",
    "    )\n",
    "]\n",
    "\n",
    "for i, article in enumerate(test_texts[:5]):\n",
    "    messages.append((\"human\", article))\n",
    "    ai_msg = llm.invoke(messages)\n",
    "    predicted_category = ai_msg.content.strip()\n",
    "    expected_category = test_df.iloc[i]['category']\n",
    "    if predicted_category.lower() in allowed_categories.split(', '):\n",
    "        print(f'Article: ********\\n  {article}\\n ******** \\n '\n",
    "              f'Category: {predicted_category}, Expected: {expected_category}\\n')\n",
    "    else:\n",
    "        print(f'Article: ********\\n  {article}\\n ******** \\n '\n",
    "              f'Category: Unknown (Predicted: {predicted_category}), Expected: {expected_category}\\n')\n",
    "    messages.pop()"
   ]
  }
 ],
 "metadata": {
  "kernelspec": {
   "display_name": "Python 3",
   "language": "python",
   "name": "python3"
  },
  "language_info": {
   "codemirror_mode": {
    "name": "ipython",
    "version": 2
   },
   "file_extension": ".py",
   "mimetype": "text/x-python",
   "name": "python",
   "nbconvert_exporter": "python",
   "pygments_lexer": "ipython2",
   "version": "2.7.6"
  }
 },
 "nbformat": 4,
 "nbformat_minor": 5
}
